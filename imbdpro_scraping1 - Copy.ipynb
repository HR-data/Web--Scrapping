{
 "cells": [
  {
   "cell_type": "code",
   "execution_count": 15,
   "metadata": {},
   "outputs": [],
   "source": [
    "from bs4 import BeautifulSoup \n",
    "import requests as rs\n",
    "import re\n",
    "import json\n",
    "from selenium import webdriver\n",
    "import pandas as pd"
   ]
  },
  {
   "cell_type": "code",
   "execution_count": 19,
   "metadata": {},
   "outputs": [],
   "source": [
    "#start the session\n",
    "session=rs.Session()\n",
    "#driver=webdriver.Chrome(r\"C:\\Users\\Jarvis\\Desktop\\chromedriver_win3\")"
   ]
  },
  {
   "cell_type": "code",
   "execution_count": 26,
   "metadata": {
    "scrolled": false
   },
   "outputs": [],
   "source": [
    "#creating payloads\n",
    "payload = {'_username':'raj406627@gmail.com', \n",
    "          '_password':'Harsh1998@'\n",
    "         }\n",
    "login_url = 'https://pro.imdb.com/inproduction?ref_=hm_nv_tt_tmm#type=movie%2CtvSeries%2CtvEpisode%2CtvMovie%2CtvMiniSeries&country=US%2CGB%2CCA%2CAU%2CFR&filmingLocation=india&sort=ranking&pos=0'\n",
    "request_url=\"https://pro.imdb.com/inproduction?ref_=hm_nv_tt_tmm#type=movie%2CtvSeries%2CtvEpisode%2CtvMovie%2CtvMiniSeries&country=US%2CGB%2CCA%2CAU%2CFR&filmingLocation=india&sort=ranking&pos=0\"\n",
    "# Post the payload to the site to log in\n",
    "s = session.post(login_url, data=payload)\n",
    "r = session.get(request_url)\n",
    "#print(r.text[:2000])\n",
    "soup = BeautifulSoup(s.text, 'lxml')\n",
    "#soup.find('img')"
   ]
  },
  {
   "cell_type": "code",
   "execution_count": 24,
   "metadata": {},
   "outputs": [
    {
     "name": "stdout",
     "output_type": "stream",
     "text": [
      "0\n"
     ]
    }
   ],
   "source": [
    "movies=soup.select('td.titlecoloumn')\n",
    "print(len(movies))\n",
    "\n",
    "\n",
    "\n"
   ]
  },
  {
   "cell_type": "code",
   "execution_count": null,
   "metadata": {},
   "outputs": [],
   "source": []
  }
 ],
 "metadata": {
  "kernelspec": {
   "display_name": "Python 3",
   "language": "python",
   "name": "python3"
  },
  "language_info": {
   "codemirror_mode": {
    "name": "ipython",
    "version": 3
   },
   "file_extension": ".py",
   "mimetype": "text/x-python",
   "name": "python",
   "nbconvert_exporter": "python",
   "pygments_lexer": "ipython3",
   "version": "3.7.3"
  }
 },
 "nbformat": 4,
 "nbformat_minor": 2
}
